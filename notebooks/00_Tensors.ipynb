{
  "cells": [
    {
      "cell_type": "markdown",
      "metadata": {
        "id": "view-in-github",
        "colab_type": "text"
      },
      "source": [
        "<a href=\"https://colab.research.google.com/github/jthemphill/pytorch_tutorial_2022/blob/automatic-reshaping-clarification/notebooks/00_Tensors.ipynb\" target=\"_parent\"><img src=\"https://colab.research.google.com/assets/colab-badge.svg\" alt=\"Open In Colab\"/></a>"
      ]
    },
    {
      "cell_type": "code",
      "execution_count": null,
      "id": "ccc4e6a6",
      "metadata": {
        "id": "ccc4e6a6"
      },
      "outputs": [],
      "source": [
        "%matplotlib inline\n",
        "%reload_ext autoreload\n",
        "%autoreload 2"
      ]
    },
    {
      "cell_type": "markdown",
      "id": "2ec50fd6",
      "metadata": {
        "id": "2ec50fd6"
      },
      "source": [
        "This notebook introduces the `Tensor` class of PyTorch, which is the fundamental class for storing numbers, whether they be data, parameters, gradients, etc. If you have any familiarity with Numpy arrays, just* treat Tensors the same.\n",
        "\n",
        "`Tensor` objects can be instantiated directly, or returned by various `torch` methods:"
      ]
    },
    {
      "cell_type": "code",
      "execution_count": null,
      "id": "350792d8",
      "metadata": {
        "id": "350792d8"
      },
      "outputs": [],
      "source": [
        "import torch\n",
        "from torch import Tensor"
      ]
    },
    {
      "cell_type": "markdown",
      "id": "21778bc4",
      "metadata": {
        "heading_collapsed": true,
        "id": "21778bc4"
      },
      "source": [
        "## Creating a tensor"
      ]
    },
    {
      "cell_type": "code",
      "execution_count": null,
      "id": "e1912c4a",
      "metadata": {
        "hidden": true,
        "id": "e1912c4a",
        "outputId": "23ecbfc7-5b2d-495d-f97b-1b086304706b"
      },
      "outputs": [
        {
          "data": {
            "text/plain": [
              "tensor([1., 2., 3.])"
            ]
          },
          "execution_count": 3,
          "metadata": {},
          "output_type": "execute_result"
        }
      ],
      "source": [
        "my_tensor = Tensor([1,2,3])\n",
        "my_tensor"
      ]
    },
    {
      "cell_type": "markdown",
      "id": "1689cf40",
      "metadata": {
        "hidden": true,
        "id": "1689cf40"
      },
      "source": [
        "Here we've stored a list of numbers in a `Tensor`.\n",
        "\n",
        "Alternatively, we could have done:"
      ]
    },
    {
      "cell_type": "code",
      "execution_count": null,
      "id": "a195238a",
      "metadata": {
        "hidden": true,
        "id": "a195238a",
        "outputId": "eed385ba-7f20-47d5-a76d-e9f7b784880f"
      },
      "outputs": [
        {
          "data": {
            "text/plain": [
              "tensor([1, 2, 3])"
            ]
          },
          "execution_count": 4,
          "metadata": {},
          "output_type": "execute_result"
        }
      ],
      "source": [
        "my_tensor = torch.tensor([1,2,3])\n",
        "my_tensor"
      ]
    },
    {
      "cell_type": "markdown",
      "id": "8656e86e",
      "metadata": {
        "hidden": true,
        "id": "8656e86e"
      },
      "source": [
        "**Important points**\n",
        "- Although these are similar, `torch.tensor` has a few more options, such as `requires_grad` (more on that later)\n",
        "- If you miss out the brackets [ ], when intialising a `Tensor` from a float, they behave differently"
      ]
    },
    {
      "cell_type": "code",
      "execution_count": null,
      "id": "66b70cb7",
      "metadata": {
        "hidden": true,
        "id": "66b70cb7",
        "outputId": "4b156c2f-b867-4d75-a706-ca5a738db5f0"
      },
      "outputs": [
        {
          "data": {
            "text/plain": [
              "(tensor([-2.9522e-20,  4.5794e-41]), tensor([2.]), tensor(2), tensor([2]))"
            ]
          },
          "execution_count": 5,
          "metadata": {},
          "output_type": "execute_result"
        }
      ],
      "source": [
        "Tensor(2), Tensor([2]), torch.tensor(2), torch.tensor([2])"
      ]
    },
    {
      "cell_type": "markdown",
      "id": "d5ea2a46",
      "metadata": {
        "hidden": true,
        "id": "d5ea2a46"
      },
      "source": [
        "Above, `Tensor(2)` made a 2-element tensor with \"random\" floats in it, but `torch.tensor(2)` instead made a 0-dimensional tensor (basically a float) with a value of 2"
      ]
    },
    {
      "cell_type": "markdown",
      "id": "bc2c4dfe",
      "metadata": {
        "heading_collapsed": true,
        "id": "bc2c4dfe"
      },
      "source": [
        "## Tensor shapes\n",
        "\n",
        "Like Numpy arrays, Tensors can store multidimensional arrays of numbers. Each dimension can have a different number of elements. The number of dimensions that a tensor has is referred to as it's *rank*. \n",
        "E.g. a rank-1 tensor is just a vector of numbers, a rank-2 tensor is a matrix, etc.\n",
        "The *shape* of a tensor is the number of elements per dimension. This can be accessed from either the `Tensor.shape` attribute, or by calling `Tensor.size()`. The number of elements in a specific dimension can be returned by either indexing the `torch.shape`, or by passing the dimension index in the call to `size` e.g. `Tensor.size(1)`. The `len()` method is overidden to provide the size of the zeroth dimension."
      ]
    },
    {
      "cell_type": "code",
      "execution_count": null,
      "id": "28a17271",
      "metadata": {
        "hidden": true,
        "id": "28a17271",
        "outputId": "b93eef97-a45a-49fa-c371-bd49f119bd5d"
      },
      "outputs": [
        {
          "data": {
            "text/plain": [
              "(torch.Size([3]), torch.Size([3]), 3)"
            ]
          },
          "execution_count": 6,
          "metadata": {},
          "output_type": "execute_result"
        }
      ],
      "source": [
        "# rank-1 tensor:\n",
        "r1 = Tensor([1,2,3])\n",
        "r1.shape, r1.size(), len(r1)"
      ]
    },
    {
      "cell_type": "code",
      "execution_count": null,
      "id": "2edd22fb",
      "metadata": {
        "hidden": true,
        "id": "2edd22fb",
        "outputId": "cdfd5b3f-de7e-402e-9040-05b33686209d"
      },
      "outputs": [
        {
          "data": {
            "text/plain": [
              "(torch.Size([3, 1]), torch.Size([3, 1]), 3, 3, 3)"
            ]
          },
          "execution_count": 7,
          "metadata": {},
          "output_type": "execute_result"
        }
      ],
      "source": [
        "# rank-2 tensor:\n",
        "r2 = Tensor([[1],[2],[3]])\n",
        "r2.shape, r2.size(), r2.shape[0], r2.size(0), len(r2)"
      ]
    },
    {
      "cell_type": "code",
      "execution_count": null,
      "id": "dc3f275f",
      "metadata": {
        "hidden": true,
        "id": "dc3f275f",
        "outputId": "38943398-98e8-44af-b21c-86155cf4f0b0"
      },
      "outputs": [
        {
          "data": {
            "text/plain": [
              "(torch.Size([3, 1, 2]), torch.Size([3, 1, 2]), 3, 3)"
            ]
          },
          "execution_count": 8,
          "metadata": {},
          "output_type": "execute_result"
        }
      ],
      "source": [
        "# rank-3 tensor:\n",
        "r3 = Tensor([[[1,4]],[[2,5]],[[3,6]]])\n",
        "r3.shape, r3.size(), r3.shape[0], r3.size(0)"
      ]
    },
    {
      "cell_type": "code",
      "execution_count": null,
      "id": "4bf1353e",
      "metadata": {
        "hidden": true,
        "id": "4bf1353e",
        "outputId": "7b6d4015-7c87-4a92-da53-022807f8a779"
      },
      "outputs": [
        {
          "data": {
            "text/plain": [
              "(torch.Size([]), torch.Size([]))"
            ]
          },
          "execution_count": 9,
          "metadata": {},
          "output_type": "execute_result"
        }
      ],
      "source": [
        "# rank-0 tensor\n",
        "r0 = torch.tensor(2)\n",
        "r0.shape, r0.size()"
      ]
    },
    {
      "cell_type": "markdown",
      "id": "1fa7999c",
      "metadata": {
        "id": "1fa7999c"
      },
      "source": [
        "## Tensors from torch methods\n",
        "\n",
        "So far we've manually created tensors from lists, but `torch` has a few methods to create tensors according to specific rules by specifying the desire shape"
      ]
    },
    {
      "cell_type": "code",
      "execution_count": null,
      "id": "7ba8355c",
      "metadata": {
        "id": "7ba8355c",
        "outputId": "413593c3-e1f1-4496-a4e9-d34f7bc848e7"
      },
      "outputs": [
        {
          "data": {
            "text/plain": [
              "tensor([[0., 0., 0.],\n",
              "        [0., 0., 0.]])"
            ]
          },
          "execution_count": 10,
          "metadata": {},
          "output_type": "execute_result"
        }
      ],
      "source": [
        "torch.zeros(2,3)"
      ]
    },
    {
      "cell_type": "code",
      "execution_count": null,
      "id": "0e3633df",
      "metadata": {
        "id": "0e3633df",
        "outputId": "18c7d284-c3c0-494d-82ea-41793c6ea353"
      },
      "outputs": [
        {
          "data": {
            "text/plain": [
              "tensor([[1.],\n",
              "        [1.],\n",
              "        [1.],\n",
              "        [1.]])"
            ]
          },
          "execution_count": 11,
          "metadata": {},
          "output_type": "execute_result"
        }
      ],
      "source": [
        "torch.ones(4,1)"
      ]
    },
    {
      "cell_type": "code",
      "execution_count": null,
      "id": "90b7e1d9",
      "metadata": {
        "id": "90b7e1d9",
        "outputId": "f291a6c9-599c-48b1-f014-22da72d3eb19"
      },
      "outputs": [
        {
          "data": {
            "text/plain": [
              "tensor([4.4650e+30, 1.4347e-19])"
            ]
          },
          "execution_count": 12,
          "metadata": {},
          "output_type": "execute_result"
        }
      ],
      "source": [
        "torch.empty(2)"
      ]
    },
    {
      "cell_type": "code",
      "execution_count": null,
      "id": "59c50cad",
      "metadata": {
        "id": "59c50cad",
        "outputId": "209fc6b5-33fa-4929-e48a-21faad5770fb"
      },
      "outputs": [
        {
          "data": {
            "text/plain": [
              "tensor([[0.5284, 0.0927, 0.7045],\n",
              "        [0.9083, 0.1330, 0.3229],\n",
              "        [0.6506, 0.9660, 0.5810]])"
            ]
          },
          "execution_count": 13,
          "metadata": {},
          "output_type": "execute_result"
        }
      ],
      "source": [
        "torch.rand(3,3)  # Uniform [0,1]"
      ]
    },
    {
      "cell_type": "code",
      "execution_count": null,
      "id": "635f2e0d",
      "metadata": {
        "id": "635f2e0d",
        "outputId": "6eb9e617-3bf5-4d97-de41-050f0a0abf73"
      },
      "outputs": [
        {
          "data": {
            "text/plain": [
              "tensor([[-0.9297, -1.0869,  1.2495],\n",
              "        [ 0.7435,  0.4109,  0.4276],\n",
              "        [ 0.2507, -1.3278, -0.5484]])"
            ]
          },
          "execution_count": 14,
          "metadata": {},
          "output_type": "execute_result"
        }
      ],
      "source": [
        "torch.randn(3,3)  # Normal (0,1)"
      ]
    },
    {
      "cell_type": "code",
      "execution_count": null,
      "id": "85442597",
      "metadata": {
        "id": "85442597",
        "outputId": "b236172d-977d-4a98-ed77-a4f4fd9df70a"
      },
      "outputs": [
        {
          "data": {
            "text/plain": [
              "tensor([[1., 1., 1.],\n",
              "        [1., 1., 1.],\n",
              "        [1., 1., 1.]])"
            ]
          },
          "execution_count": 15,
          "metadata": {},
          "output_type": "execute_result"
        }
      ],
      "source": [
        "a = torch.rand(3,3)\n",
        "torch.ones_like(a)  # Same shape"
      ]
    },
    {
      "cell_type": "code",
      "execution_count": null,
      "id": "addc63ce",
      "metadata": {
        "id": "addc63ce",
        "outputId": "bce96573-7ffc-4ff8-880b-feda415c1b7b"
      },
      "outputs": [
        {
          "data": {
            "text/plain": [
              "tensor([2, 4, 6, 8])"
            ]
          },
          "execution_count": 16,
          "metadata": {},
          "output_type": "execute_result"
        }
      ],
      "source": [
        "torch.arange(start=2, end=10, step=2)"
      ]
    },
    {
      "cell_type": "code",
      "execution_count": null,
      "id": "90712837",
      "metadata": {
        "id": "90712837",
        "outputId": "efbd2b74-302f-4664-bfca-80432806b169"
      },
      "outputs": [
        {
          "data": {
            "text/plain": [
              "tensor([11.0000, 11.3103, 11.6207, 11.9310, 12.2414, 12.5517, 12.8621, 13.1724,\n",
              "        13.4828, 13.7931, 14.1034, 14.4138, 14.7241, 15.0345, 15.3448, 15.6552,\n",
              "        15.9655, 16.2759, 16.5862, 16.8966, 17.2069, 17.5172, 17.8276, 18.1379,\n",
              "        18.4483, 18.7586, 19.0690, 19.3793, 19.6897, 20.0000])"
            ]
          },
          "execution_count": 75,
          "metadata": {},
          "output_type": "execute_result"
        }
      ],
      "source": [
        "torch.linspace(11,20,30)"
      ]
    },
    {
      "cell_type": "markdown",
      "id": "932f7e35",
      "metadata": {
        "heading_collapsed": true,
        "id": "932f7e35"
      },
      "source": [
        "## Indexing\n",
        "Indexing tensors is the same as indexing Numpy arrays; indeces can be provided in brackets [ ], and these will return pointers to the elements at those indices in the tensor. These can be used to read and write values.\n",
        "\n",
        "When indexing a tensor, indeces can be provided per dimension, starting from the zeroth dimension. Any dimensions which are not explicitly indexed will have all their dimensions returned.\n",
        "To avoid indexing a dimension, set its index to `:`.\n",
        "Dimension indeces can be passed as:\n",
        " - A single index, e.g. `2`\n",
        " - A list of indeces, e.g. `[0,1,4,5,8]`. Indices can also be repeated and provided in any order, `[0,0,3,2]`\n",
        " - A range, e.g. `2:6` will return indices 2,3,4,5, but not 6, and `2:6:2` wil return indices 2 and 4\n",
        " - a `slice` object, e.g. `slice(6, 10, 2)` will return indices 6 and 8\n",
        " \n",
        "Indexing begins from zero, i.e. indexing a tensor at one will return the second logical element, and indexing at zero will return the first.\n",
        "\n",
        "Negative indices begin counting back from the last element, which is located at index -1."
      ]
    },
    {
      "cell_type": "code",
      "execution_count": null,
      "id": "a8b556d4",
      "metadata": {
        "hidden": true,
        "id": "a8b556d4",
        "outputId": "39d21bcf-2d9e-48e6-f3c0-dddeb2a4d0cf"
      },
      "outputs": [
        {
          "data": {
            "text/plain": [
              "tensor([[[ 0,  1,  2],\n",
              "         [ 3,  4,  5]],\n",
              "\n",
              "        [[ 6,  7,  8],\n",
              "         [ 9, 10, 11]],\n",
              "\n",
              "        [[12, 13, 14],\n",
              "         [15, 16, 17]]])"
            ]
          },
          "execution_count": 17,
          "metadata": {},
          "output_type": "execute_result"
        }
      ],
      "source": [
        "a = torch.arange(18).reshape(3,2,3)\n",
        "a"
      ]
    },
    {
      "cell_type": "code",
      "execution_count": null,
      "id": "98361075",
      "metadata": {
        "hidden": true,
        "id": "98361075",
        "outputId": "4c61667a-4ffd-434c-f2da-7ae4070367d5"
      },
      "outputs": [
        {
          "data": {
            "text/plain": [
              "tensor([[12, 13, 14],\n",
              "        [15, 16, 17]])"
            ]
          },
          "execution_count": 18,
          "metadata": {},
          "output_type": "execute_result"
        }
      ],
      "source": [
        "a[2]  # single-element indexing of the zeroth dimension, this is the same as a[2,:,:]"
      ]
    },
    {
      "cell_type": "code",
      "execution_count": null,
      "id": "b10db83d",
      "metadata": {
        "hidden": true,
        "id": "b10db83d",
        "outputId": "a881a9f4-a2fa-4068-ea1c-c2480032295d"
      },
      "outputs": [
        {
          "data": {
            "text/plain": [
              "tensor([[ 3,  4,  5],\n",
              "        [ 9, 10, 11],\n",
              "        [15, 16, 17]])"
            ]
          },
          "execution_count": 19,
          "metadata": {},
          "output_type": "execute_result"
        }
      ],
      "source": [
        "a[:,1]  # single-element indexing of the first dimension, the : returns all elements from the zeroth dimension"
      ]
    },
    {
      "cell_type": "code",
      "execution_count": null,
      "id": "1dd2177c",
      "metadata": {
        "hidden": true,
        "id": "1dd2177c",
        "outputId": "232cbf89-512f-48aa-89cf-9c7e31b09f76"
      },
      "outputs": [
        {
          "data": {
            "text/plain": [
              "tensor([3, 4, 5])"
            ]
          },
          "execution_count": 20,
          "metadata": {},
          "output_type": "execute_result"
        }
      ],
      "source": [
        "a[0,1]  # single-element indexing of the zeroth and first dimension"
      ]
    },
    {
      "cell_type": "code",
      "execution_count": null,
      "id": "1be39977",
      "metadata": {
        "hidden": true,
        "id": "1be39977",
        "outputId": "8f4aba45-fe30-4707-826f-d844ba0017fe"
      },
      "outputs": [
        {
          "data": {
            "text/plain": [
              "tensor([[[ 0,  1,  2],\n",
              "         [ 3,  4,  5]],\n",
              "\n",
              "        [[ 6,  7,  8],\n",
              "         [ 9, 10, 11]],\n",
              "\n",
              "        [[ 0,  1,  2],\n",
              "         [ 3,  4,  5]]])"
            ]
          },
          "execution_count": 21,
          "metadata": {},
          "output_type": "execute_result"
        }
      ],
      "source": [
        "a[[0,1,0]]  # indexing with a list"
      ]
    },
    {
      "cell_type": "code",
      "execution_count": null,
      "id": "68304668",
      "metadata": {
        "hidden": true,
        "id": "68304668",
        "outputId": "e90200d8-d6ff-48be-b3d4-4916bfa61909"
      },
      "outputs": [
        {
          "data": {
            "text/plain": [
              "tensor([[[ 0,  1],\n",
              "         [ 3,  4]],\n",
              "\n",
              "        [[ 6,  7],\n",
              "         [ 9, 10]],\n",
              "\n",
              "        [[12, 13],\n",
              "         [15, 16]]])"
            ]
          },
          "execution_count": 22,
          "metadata": {},
          "output_type": "execute_result"
        }
      ],
      "source": [
        "a[:,:, 0:2]  # indexing with a range"
      ]
    },
    {
      "cell_type": "code",
      "execution_count": null,
      "id": "d0304619",
      "metadata": {
        "hidden": true,
        "id": "d0304619",
        "outputId": "172b083a-68f7-4b5c-bac3-072a59d1f063"
      },
      "outputs": [
        {
          "data": {
            "text/plain": [
              "tensor([[[ 0,  1],\n",
              "         [ 3,  4]],\n",
              "\n",
              "        [[ 6,  7],\n",
              "         [ 9, 10]],\n",
              "\n",
              "        [[12, 13],\n",
              "         [15, 16]]])"
            ]
          },
          "execution_count": 23,
          "metadata": {},
          "output_type": "execute_result"
        }
      ],
      "source": [
        "start = 0\n",
        "end = 2\n",
        "a[:,:,slice(start,end)]  # indexing with a slice"
      ]
    },
    {
      "cell_type": "code",
      "execution_count": null,
      "id": "db188f44",
      "metadata": {
        "hidden": true,
        "id": "db188f44",
        "outputId": "6b4d8057-933c-42ee-875f-ea9a7c76cd41"
      },
      "outputs": [
        {
          "data": {
            "text/plain": [
              "tensor([[ 6,  7,  8],\n",
              "        [ 9, 10, 11]])"
            ]
          },
          "execution_count": 24,
          "metadata": {},
          "output_type": "execute_result"
        }
      ],
      "source": [
        "a[-2]  # indexing with negative indices"
      ]
    },
    {
      "cell_type": "code",
      "execution_count": null,
      "id": "36e3da97",
      "metadata": {
        "hidden": true,
        "id": "36e3da97",
        "outputId": "7c57f438-4175-445f-b64e-db7a3db3f85c"
      },
      "outputs": [
        {
          "data": {
            "text/plain": [
              "tensor([[ 0,  1,  2],\n",
              "        [ 9, 10, 11],\n",
              "        [15, 16, 17]])"
            ]
          },
          "execution_count": 25,
          "metadata": {},
          "output_type": "execute_result"
        }
      ],
      "source": [
        "a[[0,1,2], [0,1,1]]  # Advanced indexing with two lists. Can you tell what is happening here?"
      ]
    },
    {
      "cell_type": "code",
      "execution_count": null,
      "id": "22172655",
      "metadata": {
        "hidden": true,
        "id": "22172655",
        "outputId": "492dfb41-a213-464f-c1dc-72fa6e94e28c"
      },
      "outputs": [
        {
          "data": {
            "text/plain": [
              "tensor([[[10, 10, 10],\n",
              "         [10, 10, 10]],\n",
              "\n",
              "        [[ 6,  7,  8],\n",
              "         [ 9, 10, 11]],\n",
              "\n",
              "        [[12, 13, 14],\n",
              "         [15, 16, 17]]])"
            ]
          },
          "execution_count": 26,
          "metadata": {},
          "output_type": "execute_result"
        }
      ],
      "source": [
        "a[0:1] = 10  # Setting element values\n",
        "a"
      ]
    },
    {
      "cell_type": "code",
      "execution_count": null,
      "id": "4a3600fc",
      "metadata": {
        "hidden": true,
        "id": "4a3600fc",
        "outputId": "4f7cce1e-22e4-4393-b8d9-62decb314a7b"
      },
      "outputs": [
        {
          "data": {
            "text/plain": [
              "tensor([[[-10, -10, -10],\n",
              "         [-10, -10, -10]],\n",
              "\n",
              "        [[  6,   7,   8],\n",
              "         [  9,  10,  11]],\n",
              "\n",
              "        [[ 12,  13,  14],\n",
              "         [ 15,  16,  17]]])"
            ]
          },
          "execution_count": 27,
          "metadata": {},
          "output_type": "execute_result"
        }
      ],
      "source": [
        "a[0:1] *= -1\n",
        "a"
      ]
    },
    {
      "cell_type": "markdown",
      "id": "06377b92",
      "metadata": {
        "hidden": true,
        "id": "06377b92"
      },
      "source": [
        "When indexing with a single value, note that the number of dimensions is reduced:"
      ]
    },
    {
      "cell_type": "code",
      "execution_count": null,
      "id": "c6fd71f2",
      "metadata": {
        "hidden": true,
        "id": "c6fd71f2",
        "outputId": "f8ec7b4a-8bbe-452f-bd6e-9fa52bb81dcb"
      },
      "outputs": [
        {
          "data": {
            "text/plain": [
              "torch.Size([2, 3])"
            ]
          },
          "execution_count": 28,
          "metadata": {},
          "output_type": "execute_result"
        }
      ],
      "source": [
        "a[0].shape"
      ]
    },
    {
      "cell_type": "markdown",
      "id": "2575c9f3",
      "metadata": {
        "hidden": true,
        "id": "2575c9f3"
      },
      "source": [
        "This can be avoided by indexing with a range of length 1:"
      ]
    },
    {
      "cell_type": "code",
      "execution_count": null,
      "id": "ad9356d4",
      "metadata": {
        "hidden": true,
        "id": "ad9356d4",
        "outputId": "8d2f8687-9efc-4554-869b-500ce835d03e"
      },
      "outputs": [
        {
          "data": {
            "text/plain": [
              "torch.Size([1, 2, 3])"
            ]
          },
          "execution_count": 29,
          "metadata": {},
          "output_type": "execute_result"
        }
      ],
      "source": [
        "a[0:1].shape"
      ]
    },
    {
      "cell_type": "markdown",
      "id": "f04f9dab",
      "metadata": {
        "heading_collapsed": true,
        "id": "f04f9dab"
      },
      "source": [
        "## Boolean Masking\n",
        "\n",
        "Tensors can be masked to return elements for which the mask value is `True`. The mask must be of the same length as the dimension it is applied to. Masks can also be multi-dimensional."
      ]
    },
    {
      "cell_type": "code",
      "execution_count": null,
      "id": "a5427693",
      "metadata": {
        "hidden": true,
        "id": "a5427693",
        "outputId": "fd02e05b-1780-4c2b-fb34-3b08991a6fa9"
      },
      "outputs": [
        {
          "data": {
            "text/plain": [
              "tensor([[[-10, -10, -10],\n",
              "         [-10, -10, -10]],\n",
              "\n",
              "        [[ 12,  13,  14],\n",
              "         [ 15,  16,  17]]])"
            ]
          },
          "execution_count": 30,
          "metadata": {},
          "output_type": "execute_result"
        }
      ],
      "source": [
        "a[[True,False,True]]"
      ]
    },
    {
      "cell_type": "code",
      "execution_count": null,
      "id": "4adaa48e",
      "metadata": {
        "hidden": true,
        "id": "4adaa48e",
        "outputId": "48cc35c2-4ac8-440a-dfcf-e23cc9aec5f8"
      },
      "outputs": [
        {
          "data": {
            "text/plain": [
              "tensor([[[-10, -10, -10]],\n",
              "\n",
              "        [[  6,   7,   8]],\n",
              "\n",
              "        [[ 12,  13,  14]]])"
            ]
          },
          "execution_count": 31,
          "metadata": {},
          "output_type": "execute_result"
        }
      ],
      "source": [
        "a[:,[True,False]]"
      ]
    },
    {
      "cell_type": "code",
      "execution_count": null,
      "id": "f7bd06a0",
      "metadata": {
        "hidden": true,
        "id": "f7bd06a0",
        "outputId": "37d3af7f-ba19-47f1-c0e5-60b0dd96c1bd"
      },
      "outputs": [
        {
          "name": "stdout",
          "output_type": "stream",
          "text": [
            "tensor([[[False, False, False],\n",
            "         [False, False, False]],\n",
            "\n",
            "        [[ True,  True,  True],\n",
            "         [ True,  True,  True]],\n",
            "\n",
            "        [[ True,  True,  True],\n",
            "         [ True,  True,  True]]])\n"
          ]
        },
        {
          "data": {
            "text/plain": [
              "tensor([ 6,  7,  8,  9, 10, 11, 12, 13, 14, 15, 16, 17])"
            ]
          },
          "execution_count": 32,
          "metadata": {},
          "output_type": "execute_result"
        }
      ],
      "source": [
        "mask = a > 5\n",
        "print(mask)\n",
        "a[mask]  # Multi-dim mask. Note how it collapses to a rank-1 tensor"
      ]
    },
    {
      "cell_type": "markdown",
      "id": "24a1df42",
      "metadata": {
        "hidden": true,
        "id": "24a1df42"
      },
      "source": [
        "Masks can also be used to write to elements that are selected by the mask"
      ]
    },
    {
      "cell_type": "code",
      "execution_count": null,
      "id": "f9a17dbf",
      "metadata": {
        "hidden": true,
        "id": "f9a17dbf",
        "outputId": "853f47b2-f491-4940-bc3e-c346978826be"
      },
      "outputs": [
        {
          "name": "stdout",
          "output_type": "stream",
          "text": [
            "tensor([[[-10, -10, -10],\n",
            "         [-10, -10, -10]],\n",
            "\n",
            "        [[  6,   7,   8],\n",
            "         [  9,  10,  11]],\n",
            "\n",
            "        [[ 12,  13,  14],\n",
            "         [ 15,  16,  17]]])\n"
          ]
        },
        {
          "data": {
            "text/plain": [
              "tensor([[[-10, -10, -10],\n",
              "         [-10, -10, -10]],\n",
              "\n",
              "        [[ -6,  -7,  -8],\n",
              "         [ -9, -10, -11]],\n",
              "\n",
              "        [[-12, -13, -14],\n",
              "         [-15, -16, -17]]])"
            ]
          },
          "execution_count": 33,
          "metadata": {},
          "output_type": "execute_result"
        }
      ],
      "source": [
        "print(a)\n",
        "a[mask] *= -1\n",
        "a"
      ]
    },
    {
      "cell_type": "markdown",
      "id": "ee35f1bb",
      "metadata": {
        "hidden": true,
        "id": "ee35f1bb"
      },
      "source": [
        "### where function\n",
        "In some cases, it can be simpler to avoid explicitly masking tensors and instead using a `where` function:"
      ]
    },
    {
      "cell_type": "code",
      "execution_count": null,
      "id": "a8f39356",
      "metadata": {
        "hidden": true,
        "id": "a8f39356",
        "outputId": "b07c9902-f9ce-4824-f043-3bc8da29bc9d"
      },
      "outputs": [
        {
          "data": {
            "text/plain": [
              "tensor([[[10, 10, 10],\n",
              "         [10, 10, 10]],\n",
              "\n",
              "        [[ 6,  7,  8],\n",
              "         [ 9, 10, 11]],\n",
              "\n",
              "        [[12, 13, 14],\n",
              "         [15, 16, 17]]])"
            ]
          },
          "execution_count": 34,
          "metadata": {},
          "output_type": "execute_result"
        }
      ],
      "source": [
        "torch.where(a < 0, a*-1, a)"
      ]
    },
    {
      "cell_type": "markdown",
      "id": "852237ef",
      "metadata": {
        "hidden": true,
        "id": "852237ef"
      },
      "source": [
        "Despite the convoluted code, Multiple where statements can be chained together without having to worry about merging masks"
      ]
    },
    {
      "cell_type": "code",
      "execution_count": null,
      "id": "8ffd9d52",
      "metadata": {
        "hidden": true,
        "id": "8ffd9d52",
        "outputId": "da925866-b246-4e71-e1d6-b32dad317b97"
      },
      "outputs": [
        {
          "data": {
            "text/plain": [
              "tensor([[[10, 10, 10],\n",
              "         [10, 10, 10]],\n",
              "\n",
              "        [[ 6,  7,  8],\n",
              "         [ 9, 10, 11]],\n",
              "\n",
              "        [[12, 13, 14],\n",
              "         [15, 16, 17]]])"
            ]
          },
          "execution_count": 35,
          "metadata": {},
          "output_type": "execute_result"
        }
      ],
      "source": [
        "torch.where(a < 0, a*-1, torch.where(a>2, 10*a, a))"
      ]
    },
    {
      "cell_type": "markdown",
      "id": "4401864d",
      "metadata": {
        "hidden": true,
        "id": "4401864d"
      },
      "source": [
        "### Mask functions\n",
        "`isnan` and `isinf` can be used to return Boolean masks of elements which are NaN/Inf."
      ]
    },
    {
      "cell_type": "code",
      "execution_count": null,
      "id": "bb963466",
      "metadata": {
        "hidden": true,
        "id": "bb963466",
        "outputId": "8a82e938-23b5-4b64-92f0-673b49d79edb"
      },
      "outputs": [
        {
          "data": {
            "text/plain": [
              "tensor([False,  True,  True,  True,  True, False, False,  True,  True,  True])"
            ]
          },
          "execution_count": 36,
          "metadata": {},
          "output_type": "execute_result"
        }
      ],
      "source": [
        "m = torch.randn(10).log().isnan()\n",
        "m"
      ]
    },
    {
      "cell_type": "markdown",
      "id": "11e1e6cd",
      "metadata": {
        "hidden": true,
        "id": "11e1e6cd"
      },
      "source": [
        "Boolean masks can be inverted with the `~` operator"
      ]
    },
    {
      "cell_type": "code",
      "execution_count": null,
      "id": "f9a4be5c",
      "metadata": {
        "hidden": true,
        "id": "f9a4be5c",
        "outputId": "be34f48b-b723-40f0-df3e-e94ecc130c38"
      },
      "outputs": [
        {
          "data": {
            "text/plain": [
              "tensor([ True, False, False, False, False,  True,  True, False, False, False])"
            ]
          },
          "execution_count": 37,
          "metadata": {},
          "output_type": "execute_result"
        }
      ],
      "source": [
        "~m"
      ]
    },
    {
      "cell_type": "markdown",
      "id": "f44ac3eb",
      "metadata": {
        "heading_collapsed": true,
        "id": "f44ac3eb"
      },
      "source": [
        "## Data types\n",
        "\n",
        "Tensors can have various types, e.g. float, bool, int, long. They can either be intialised with the specified type, or converted between types."
      ]
    },
    {
      "cell_type": "code",
      "execution_count": null,
      "id": "1ce56d49",
      "metadata": {
        "hidden": true,
        "id": "1ce56d49",
        "outputId": "efa2f685-159c-409e-e9b7-a4b8395f59c2"
      },
      "outputs": [
        {
          "name": "stdout",
          "output_type": "stream",
          "text": [
            "tensor([ 9.5504, 15.1664,  5.1242, -4.5564, 16.1716]) tensor([ 9, 15,  5, -4, 16])\n"
          ]
        }
      ],
      "source": [
        "a = 10*torch.randn(5)\n",
        "print(a, a.long())"
      ]
    },
    {
      "cell_type": "code",
      "execution_count": null,
      "id": "fc82e4ad",
      "metadata": {
        "hidden": true,
        "id": "fc82e4ad",
        "outputId": "122f7bb5-5c2a-43a8-e886-c927ad484a04"
      },
      "outputs": [
        {
          "name": "stdout",
          "output_type": "stream",
          "text": [
            "tensor([ True,  True,  True, False,  True]) tensor([1., 1., 1., 0., 1.])\n"
          ]
        }
      ],
      "source": [
        "b = a > 0\n",
        "print(b, b.float())"
      ]
    },
    {
      "cell_type": "code",
      "execution_count": null,
      "id": "6acc824e",
      "metadata": {
        "hidden": true,
        "id": "6acc824e",
        "outputId": "17ddce5c-9db8-4e92-9e70-36e4beb34087"
      },
      "outputs": [
        {
          "data": {
            "text/plain": [
              "(tensor([0.0852, 0.0681, 0.9256, 0.6227, 0.8386], dtype=torch.float64),\n",
              " tensor([0.6645, 0.4892, 0.7237, 0.3992, 0.9269]))"
            ]
          },
          "execution_count": 40,
          "metadata": {},
          "output_type": "execute_result"
        }
      ],
      "source": [
        "torch.rand(5, dtype=torch.float64), torch.rand(5, dtype=torch.float32)"
      ]
    },
    {
      "cell_type": "markdown",
      "id": "202a5f51",
      "metadata": {
        "id": "202a5f51"
      },
      "source": [
        "## Basic mathematical operations"
      ]
    },
    {
      "cell_type": "markdown",
      "id": "b2ed7cca",
      "metadata": {
        "id": "b2ed7cca"
      },
      "source": [
        "### Torch and tensor methods\n",
        "\n",
        "Like Numpy, PyTorch has many methods that can be applied `Tensor`s. These can either be called by `torch.method_name(tensor)` or `tensor.method_name()`. Generally, if it is a common mathematical operation, there is a method for it. Generally, these operations will be *broadcast* to all elements, meaning that the same operation is applied to each element, without regard for where it is located, or what the values of the other elements are. Multiple operations can be chained together. Some examples:"
      ]
    },
    {
      "cell_type": "code",
      "execution_count": null,
      "id": "a7d69873",
      "metadata": {
        "id": "a7d69873"
      },
      "outputs": [],
      "source": [
        "a = torch.randn(3,3)"
      ]
    },
    {
      "cell_type": "code",
      "execution_count": null,
      "id": "9c0737e9",
      "metadata": {
        "id": "9c0737e9",
        "outputId": "9e90935a-4b0f-46df-91ca-01783be0398c"
      },
      "outputs": [
        {
          "data": {
            "text/plain": [
              "(tensor([[ 0.7299, -0.0457,  0.1589],\n",
              "         [ 0.9909,  0.7171,  0.9412],\n",
              "         [ 0.2808,  0.8627,  0.0505]]),\n",
              " tensor([[ 0.6835,  0.9990, -0.9873],\n",
              "         [-0.1348, -0.6970, -0.3379],\n",
              "         [ 0.9598,  0.5058, -0.9987]]))"
            ]
          },
          "execution_count": 42,
          "metadata": {},
          "output_type": "execute_result"
        }
      ],
      "source": [
        "torch.cos(a), a.sin()"
      ]
    },
    {
      "cell_type": "code",
      "execution_count": null,
      "id": "0def72ad",
      "metadata": {
        "id": "0def72ad",
        "outputId": "4de5492c-e9b5-489e-deeb-1b269f03d4d6"
      },
      "outputs": [
        {
          "data": {
            "text/plain": [
              "(tensor([[0.5664, 2.6133, 1.9914],\n",
              "         [0.0183, 0.5947, 0.1188],\n",
              "         [1.6542, 0.2812, 2.3112]]),\n",
              " tensor([[0.8675, 1.2714,    nan],\n",
              "         [   nan,    nan,    nan],\n",
              "         [1.1341, 0.7282,    nan]]),\n",
              " tensor([[0.8675, 1.2714, 0.0000],\n",
              "         [0.0000, 0.0000, 0.0000],\n",
              "         [1.1341, 0.7282, 0.0000]]))"
            ]
          },
          "execution_count": 43,
          "metadata": {},
          "output_type": "execute_result"
        }
      ],
      "source": [
        "a.square(), torch.sqrt(a), torch.sqrt(a).nan_to_num()"
      ]
    },
    {
      "cell_type": "code",
      "execution_count": null,
      "id": "0e538e82",
      "metadata": {
        "id": "0e538e82",
        "outputId": "1e83e357-ee5c-4980-a757-ed13c82774a0"
      },
      "outputs": [
        {
          "data": {
            "text/plain": [
              "tensor([[ 4.2624e-01,  4.2245e+00, -2.8103e+00],\n",
              "        [-2.4735e-03, -4.5861e-01, -4.0938e-02],\n",
              "        [ 2.1276e+00,  1.4911e-01, -3.5137e+00]])"
            ]
          },
          "execution_count": 44,
          "metadata": {},
          "output_type": "execute_result"
        }
      ],
      "source": [
        "a.pow(3)"
      ]
    },
    {
      "cell_type": "code",
      "execution_count": null,
      "id": "8f0c08ed",
      "metadata": {
        "id": "8f0c08ed",
        "outputId": "497e60a9-9358-4610-c05c-9837ac28a82f"
      },
      "outputs": [
        {
          "data": {
            "text/plain": [
              "tensor([[0.7526, 1.6166, 1.4112],\n",
              "        [0.1352, 0.7712, 0.3446],\n",
              "        [1.2862, 0.5303, 1.5203]])"
            ]
          },
          "execution_count": 45,
          "metadata": {},
          "output_type": "execute_result"
        }
      ],
      "source": [
        "torch.abs(a)"
      ]
    },
    {
      "cell_type": "code",
      "execution_count": null,
      "id": "ba698af9",
      "metadata": {
        "id": "ba698af9",
        "outputId": "d1cd7af5-febe-4fcb-e70c-b3ca5516f0f9"
      },
      "outputs": [
        {
          "data": {
            "text/plain": [
              "(tensor([[2.1225, 5.0357, 0.2439],\n",
              "         [0.8735, 0.4625, 0.7085],\n",
              "         [3.6189, 1.6994, 0.2187]]),\n",
              " tensor([[-0.1234,  0.2086,     nan],\n",
              "         [    nan,     nan,     nan],\n",
              "         [ 0.1093, -0.2755,     nan]]))"
            ]
          },
          "execution_count": 46,
          "metadata": {},
          "output_type": "execute_result"
        }
      ],
      "source": [
        "a.exp(), torch.log10(a)"
      ]
    },
    {
      "cell_type": "markdown",
      "id": "ce918c16",
      "metadata": {
        "id": "ce918c16"
      },
      "source": [
        "### Operations between tensors and floats\n",
        "Common mathematical operators `(+,-,*,**,/,//)` are overloaded to broadcast the same operation to each element, an operations are commutative."
      ]
    },
    {
      "cell_type": "code",
      "execution_count": null,
      "id": "218c3c19",
      "metadata": {
        "id": "218c3c19",
        "outputId": "b54157b9-083f-4065-bf64-1aa06cd784d0"
      },
      "outputs": [
        {
          "data": {
            "text/plain": [
              "tensor([[-0.5958, -0.4090, -0.5656],\n",
              "        [-0.9153, -0.3750, -2.3914],\n",
              "        [-1.3762,  0.0594,  2.2618]])"
            ]
          },
          "execution_count": 47,
          "metadata": {},
          "output_type": "execute_result"
        }
      ],
      "source": [
        "a = torch.randn(3,3)\n",
        "a"
      ]
    },
    {
      "cell_type": "code",
      "execution_count": null,
      "id": "71e578f4",
      "metadata": {
        "id": "71e578f4",
        "outputId": "a3021b31-a185-487c-e16d-a64e597e99a4"
      },
      "outputs": [
        {
          "data": {
            "text/plain": [
              "(tensor([[ 9.4042,  9.5910,  9.4344],\n",
              "         [ 9.0847,  9.6250,  7.6086],\n",
              "         [ 8.6238, 10.0594, 12.2618]]),\n",
              " tensor([[-3.5958, -3.4090, -3.5656],\n",
              "         [-3.9153, -3.3750, -5.3914],\n",
              "         [-4.3762, -2.9406, -0.7382]]),\n",
              " tensor([[-0.0596, -0.0409, -0.0566],\n",
              "         [-0.0915, -0.0375, -0.2391],\n",
              "         [-0.1376,  0.0059,  0.2262]]),\n",
              " tensor([[-1.6785, -2.4448, -1.7680],\n",
              "         [-1.0926, -2.6669, -0.4182],\n",
              "         [-0.7267, 16.8324,  0.4421]]),\n",
              " tensor([[-0.0298, -0.0205, -0.0283],\n",
              "         [-0.0458, -0.0187, -0.1196],\n",
              "         [-0.0688,  0.0030,  0.1131]]),\n",
              " tensor([[-1., -1., -1.],\n",
              "         [-1., -1., -2.],\n",
              "         [-1.,  0.,  1.]]))"
            ]
          },
          "execution_count": 48,
          "metadata": {},
          "output_type": "execute_result"
        }
      ],
      "source": [
        "a + 10, a-3, 0.1*a, a**-1, a/20, a//2"
      ]
    },
    {
      "cell_type": "markdown",
      "id": "c31540d8",
      "metadata": {
        "id": "c31540d8"
      },
      "source": [
        "These operations can also be called as methods:"
      ]
    },
    {
      "cell_type": "code",
      "execution_count": null,
      "id": "4fbd9575",
      "metadata": {
        "id": "4fbd9575",
        "outputId": "a23f43a9-51fe-4bd8-f434-9b9dd1654ef1"
      },
      "outputs": [
        {
          "data": {
            "text/plain": [
              "(tensor([[ 9.4042,  9.5910,  9.4344],\n",
              "         [ 9.0847,  9.6250,  7.6086],\n",
              "         [ 8.6238, 10.0594, 12.2618]]),\n",
              " tensor([[-3.5958, -3.4090, -3.5656],\n",
              "         [-3.9153, -3.3750, -5.3914],\n",
              "         [-4.3762, -2.9406, -0.7382]]),\n",
              " tensor([[-0.0596, -0.0409, -0.0566],\n",
              "         [-0.0915, -0.0375, -0.2391],\n",
              "         [-0.1376,  0.0059,  0.2262]]),\n",
              " tensor([[-1.6785, -2.4448, -1.7680],\n",
              "         [-1.0926, -2.6669, -0.4182],\n",
              "         [-0.7267, 16.8324,  0.4421]]),\n",
              " tensor([[-0.0298, -0.0205, -0.0283],\n",
              "         [-0.0458, -0.0187, -0.1196],\n",
              "         [-0.0688,  0.0030,  0.1131]]),\n",
              " tensor([[-1., -1., -1.],\n",
              "         [-1., -1., -2.],\n",
              "         [-1.,  0.,  1.]]))"
            ]
          },
          "execution_count": 49,
          "metadata": {},
          "output_type": "execute_result"
        }
      ],
      "source": [
        "torch.add(a, 10), a.sub(3), a.mul(0.1), torch.pow(a,-1), torch.div(a,20), torch.div(a,2,rounding_mode=\"floor\")"
      ]
    },
    {
      "cell_type": "markdown",
      "id": "a2608111",
      "metadata": {
        "id": "a2608111"
      },
      "source": [
        "#### In-place operations\n",
        "\n",
        "Current, these operations are performed such that they return the new value of the tensor, but the values of the original tensor are left unchanged. Many of these operations can also be performed \"in-place\", in which the original values of the tensor are updated. In torch methods, there is often an `method_` version, which performs `method` in-place on the tensor.\n",
        "Personally, I would **not** recommend, this: it is more compact, but can cause issues when building a differentiable system, since gradients can't be propagated through in-place operations."
      ]
    },
    {
      "cell_type": "code",
      "execution_count": null,
      "id": "5ab7176a",
      "metadata": {
        "id": "5ab7176a",
        "outputId": "0267598e-503e-4f2e-b575-b5092d672b8c"
      },
      "outputs": [
        {
          "name": "stdout",
          "output_type": "stream",
          "text": [
            "tensor([[ 0.6071,  0.6758,  0.2167],\n",
            "        [-0.7897, -0.6264,  0.9150],\n",
            "        [-0.5337, -2.4725, -0.2235]])\n"
          ]
        },
        {
          "data": {
            "text/plain": [
              "tensor([[10.6071, 10.6758, 10.2167],\n",
              "        [ 9.2103,  9.3736, 10.9150],\n",
              "        [ 9.4663,  7.5275,  9.7765]])"
            ]
          },
          "execution_count": 50,
          "metadata": {},
          "output_type": "execute_result"
        }
      ],
      "source": [
        "a = torch.randn(3,3)\n",
        "print(a)\n",
        "a += 10\n",
        "a"
      ]
    },
    {
      "cell_type": "code",
      "execution_count": null,
      "id": "3ae995ca",
      "metadata": {
        "id": "3ae995ca",
        "outputId": "eb94fcae-81df-4f6a-dfbc-e51d48f03723"
      },
      "outputs": [
        {
          "name": "stdout",
          "output_type": "stream",
          "text": [
            "tensor([[ 0.0747,  1.6477,  1.5224],\n",
            "        [ 0.7767, -0.0370, -0.2346],\n",
            "        [ 0.3004,  1.1650,  0.1740]])\n"
          ]
        },
        {
          "data": {
            "text/plain": [
              "tensor([[ 13.3866,   0.6069,   0.6569],\n",
              "        [  1.2876, -27.0051,  -4.2634],\n",
              "        [  3.3286,   0.8584,   5.7475]])"
            ]
          },
          "execution_count": 51,
          "metadata": {},
          "output_type": "execute_result"
        }
      ],
      "source": [
        "a = torch.randn(3,3)\n",
        "print(a)\n",
        "a.pow_(-1)\n",
        "a"
      ]
    },
    {
      "cell_type": "code",
      "execution_count": null,
      "id": "8e9944ca",
      "metadata": {
        "id": "8e9944ca",
        "outputId": "08408061-83b3-43c0-d1e4-af57d331009c"
      },
      "outputs": [
        {
          "name": "stdout",
          "output_type": "stream",
          "text": [
            "tensor([[    nan,     nan,     nan],\n",
            "        [-0.4975,     nan,  0.5074],\n",
            "        [ 0.6073,     nan,     nan]])\n"
          ]
        },
        {
          "data": {
            "text/plain": [
              "tensor([[ 0.0000,  0.0000,  0.0000],\n",
              "        [-0.4975,  0.0000,  0.5074],\n",
              "        [ 0.6073,  0.0000,  0.0000]])"
            ]
          },
          "execution_count": 52,
          "metadata": {},
          "output_type": "execute_result"
        }
      ],
      "source": [
        "a = torch.randn(3,3).log()\n",
        "print(a)\n",
        "torch.nan_to_num_(a)\n",
        "a"
      ]
    },
    {
      "cell_type": "markdown",
      "id": "328436b6",
      "metadata": {
        "id": "328436b6"
      },
      "source": [
        "In-place operations can also happen unexpectedly, due to e.g. indexing, and can quite difficult to find and fix. Overwriting tensors with out-of-place operations is (generally) fine:"
      ]
    },
    {
      "cell_type": "code",
      "execution_count": null,
      "id": "f92e69aa",
      "metadata": {
        "id": "f92e69aa"
      },
      "outputs": [],
      "source": [
        "a = a+3"
      ]
    },
    {
      "cell_type": "markdown",
      "id": "2f6035ff",
      "metadata": {
        "id": "2f6035ff"
      },
      "source": [
        "### Operations between pairs of tensors\n",
        "Similar to floats, common mathematical operators `(+,-,*,**,/,//)` are overloaded to apply the same the same operation to each pair of elements of tensors of the same size.\n",
        "\n",
        "**Important** the `*` is an element-wise multiplication (Hadamard product). For a traditional matrix multiplication, use `torch.mm` or the `@` operator. This is subject to the normal requirements on shapes, and is not (necessarily) commutative."
      ]
    },
    {
      "cell_type": "code",
      "execution_count": null,
      "id": "ca871929",
      "metadata": {
        "id": "ca871929",
        "outputId": "717f71e7-b086-462e-8975-e73f47f9e198"
      },
      "outputs": [
        {
          "data": {
            "text/plain": [
              "(tensor([[-1.1703, -0.8555,  1.0839],\n",
              "         [ 0.1600,  1.6309,  1.0055],\n",
              "         [-0.4818,  0.7642,  0.4079]]),\n",
              " tensor([[-0.7183,  1.1314, -0.1432],\n",
              "         [ 0.1695, -0.6910,  0.9068],\n",
              "         [-0.4084, -0.8161,  0.6513]]))"
            ]
          },
          "execution_count": 54,
          "metadata": {},
          "output_type": "execute_result"
        }
      ],
      "source": [
        "a,b = torch.randn(3,3),torch.randn(3,3)\n",
        "a,b"
      ]
    },
    {
      "cell_type": "code",
      "execution_count": null,
      "id": "450db880",
      "metadata": {
        "id": "450db880",
        "outputId": "eb4cf6b3-0d5b-455a-82e0-42cd5851f5ba"
      },
      "outputs": [
        {
          "data": {
            "text/plain": [
              "(tensor([[-1.8886,  0.2759,  0.9407],\n",
              "         [ 0.3295,  0.9400,  1.9124],\n",
              "         [-0.8901, -0.0520,  1.0591]]),\n",
              " tensor([[-0.4520, -1.9869,  1.2271],\n",
              "         [-0.0094,  2.3219,  0.0987],\n",
              "         [-0.0734,  1.5803, -0.2434]]),\n",
              " tensor([[   nan,    nan, 0.9885],\n",
              "         [0.7331, 0.7132, 1.0050],\n",
              "         [   nan, 1.2455, 0.5576]]),\n",
              " tensor([[ 1.6292, -0.7562, -7.5708],\n",
              "         [ 0.9443, -2.3603,  1.1089],\n",
              "         [ 1.1798, -0.9363,  0.6263]]),\n",
              " tensor([[-inf, -1., inf],\n",
              "         [inf, inf, inf],\n",
              "         [-inf, inf, inf]]))"
            ]
          },
          "execution_count": 55,
          "metadata": {},
          "output_type": "execute_result"
        }
      ],
      "source": [
        "a + b, a-b, a**b, a/b, a//b.long()"
      ]
    },
    {
      "cell_type": "code",
      "execution_count": null,
      "id": "ae649a7d",
      "metadata": {
        "id": "ae649a7d",
        "outputId": "e9da8eca-f78c-41a8-d721-08d10f62acbd"
      },
      "outputs": [
        {
          "data": {
            "text/plain": [
              "(tensor([[ 0.8406, -0.9679, -0.1552],\n",
              "         [ 0.0271, -1.1269,  0.9118],\n",
              "         [ 0.1967, -0.6237,  0.2656]]),\n",
              " tensor([[ 0.2530, -1.6175,  0.0976],\n",
              "         [-0.2492, -1.7666,  2.1109],\n",
              "         [ 0.3090, -1.4060,  1.0276]]))"
            ]
          },
          "execution_count": 56,
          "metadata": {},
          "output_type": "execute_result"
        }
      ],
      "source": [
        "a*b, a@b"
      ]
    },
    {
      "cell_type": "code",
      "execution_count": null,
      "id": "3d55063b",
      "metadata": {
        "id": "3d55063b",
        "outputId": "3db739e9-325d-466d-b954-eac8ecf64792"
      },
      "outputs": [
        {
          "data": {
            "text/plain": [
              "tensor([[0.0417, 0.6071],\n",
              "        [0.6482, 0.2336]])"
            ]
          },
          "execution_count": 57,
          "metadata": {},
          "output_type": "execute_result"
        }
      ],
      "source": [
        "torch.randn(2,3)@torch.randn(3,2)"
      ]
    },
    {
      "cell_type": "code",
      "execution_count": null,
      "id": "847fd02b",
      "metadata": {
        "id": "847fd02b",
        "outputId": "ceca7569-d514-4bf8-cbe0-e86bb0f6f29f"
      },
      "outputs": [
        {
          "data": {
            "text/plain": [
              "tensor([[-0.5271, -1.5831],\n",
              "        [-1.7283, -1.5105]])"
            ]
          },
          "execution_count": 58,
          "metadata": {},
          "output_type": "execute_result"
        }
      ],
      "source": [
        "torch.mm(torch.randn(2,3),torch.randn(3,2))"
      ]
    },
    {
      "cell_type": "markdown",
      "id": "e158abe6",
      "metadata": {
        "id": "e158abe6"
      },
      "source": [
        "### Implicit reshaping\n",
        "Operations between tensors of different shapes can either fail, or result in one of the tensors being automatically reshaped in order to perform the requested operation."
      ]
    },
    {
      "cell_type": "code",
      "execution_count": null,
      "id": "4c2fb656",
      "metadata": {
        "id": "4c2fb656",
        "outputId": "24848a1a-9ffa-434c-9850-145d6e9ec85e"
      },
      "outputs": [
        {
          "ename": "RuntimeError",
          "evalue": "The size of tensor a (2) must match the size of tensor b (3) at non-singleton dimension 1",
          "output_type": "error",
          "traceback": [
            "\u001b[0;31m---------------------------------------------------------------------------\u001b[0m",
            "\u001b[0;31mRuntimeError\u001b[0m                              Traceback (most recent call last)",
            "Cell \u001b[0;32mIn [59], line 1\u001b[0m\n\u001b[0;32m----> 1\u001b[0m \u001b[43mtorch\u001b[49m\u001b[38;5;241;43m.\u001b[39;49m\u001b[43mrandn\u001b[49m\u001b[43m(\u001b[49m\u001b[38;5;241;43m2\u001b[39;49m\u001b[43m)\u001b[49m\u001b[38;5;241;43m*\u001b[39;49m\u001b[43mtorch\u001b[49m\u001b[38;5;241;43m.\u001b[39;49m\u001b[43mrandn\u001b[49m\u001b[43m(\u001b[49m\u001b[38;5;241;43m2\u001b[39;49m\u001b[43m,\u001b[49m\u001b[38;5;241;43m3\u001b[39;49m\u001b[43m)\u001b[49m \u001b[38;5;66;03m# This fails since the first tensor is of a different rank to the second\u001b[39;00m\n",
            "\u001b[0;31mRuntimeError\u001b[0m: The size of tensor a (2) must match the size of tensor b (3) at non-singleton dimension 1"
          ]
        }
      ],
      "source": [
        "torch.randn(2)*torch.ones(2,3) # This fails since the first tensor is of a different rank to the second"
      ]
    },
    {
      "cell_type": "code",
      "execution_count": null,
      "id": "6b4d41d2",
      "metadata": {
        "id": "6b4d41d2",
        "outputId": "e3cb0b12-1a04-417f-af79-f5529c90c1dd"
      },
      "outputs": [
        {
          "ename": "RuntimeError",
          "evalue": "The size of tensor a (2) must match the size of tensor b (3) at non-singleton dimension 1",
          "output_type": "error",
          "traceback": [
            "\u001b[0;31m---------------------------------------------------------------------------\u001b[0m",
            "\u001b[0;31mRuntimeError\u001b[0m                              Traceback (most recent call last)",
            "Cell \u001b[0;32mIn [60], line 1\u001b[0m\n\u001b[0;32m----> 1\u001b[0m \u001b[43mtorch\u001b[49m\u001b[38;5;241;43m.\u001b[39;49m\u001b[43mrandn\u001b[49m\u001b[43m(\u001b[49m\u001b[38;5;241;43m2\u001b[39;49m\u001b[43m,\u001b[49m\u001b[38;5;241;43m2\u001b[39;49m\u001b[43m)\u001b[49m\u001b[38;5;241;43m*\u001b[39;49m\u001b[43mtorch\u001b[49m\u001b[38;5;241;43m.\u001b[39;49m\u001b[43mrandn\u001b[49m\u001b[43m(\u001b[49m\u001b[38;5;241;43m2\u001b[39;49m\u001b[43m,\u001b[49m\u001b[38;5;241;43m3\u001b[39;49m\u001b[43m)\u001b[49m \u001b[38;5;66;03m# This fails since the first tensor has a different number of elements in the second dimension\u001b[39;00m\n",
            "\u001b[0;31mRuntimeError\u001b[0m: The size of tensor a (2) must match the size of tensor b (3) at non-singleton dimension 1"
          ]
        }
      ],
      "source": [
        "torch.randn(2,2)*torch.ones(2,3) # This fails since the first tensor has a different number of elements in the second dimension"
      ]
    },
    {
      "cell_type": "code",
      "execution_count": 71,
      "id": "7ed6e819",
      "metadata": {
        "id": "7ed6e819",
        "outputId": "5df2b4c7-7530-4099-870c-35ba34aadbab",
        "colab": {
          "base_uri": "https://localhost:8080/"
        }
      },
      "outputs": [
        {
          "output_type": "execute_result",
          "data": {
            "text/plain": [
              "tensor([[-1.1172, -1.1172, -1.1172],\n",
              "        [ 0.1716,  0.1716,  0.1716]])"
            ]
          },
          "metadata": {},
          "execution_count": 71
        }
      ],
      "source": [
        "torch.randn(2,1)*torch.ones(2,3) # Here the first tensor is automatically copied along the second dimension to in an effective shape of (2,3) to match that of the second tensor"
      ]
    },
    {
      "cell_type": "code",
      "execution_count": 72,
      "id": "f1d8d3b2",
      "metadata": {
        "id": "f1d8d3b2",
        "outputId": "09919bea-5952-446a-e2f7-8d4b6919ae97",
        "colab": {
          "base_uri": "https://localhost:8080/"
        }
      },
      "outputs": [
        {
          "output_type": "execute_result",
          "data": {
            "text/plain": [
              "tensor([[0.8493, 0.8493, 0.8493],\n",
              "        [0.8493, 0.8493, 0.8493]])"
            ]
          },
          "metadata": {},
          "execution_count": 72
        }
      ],
      "source": [
        "torch.randn(1)*torch.ones(2,3) # Here the first tensor is automatically reshaped to (1,1) and then copied along the first & second dimension to in an effective shape of (2,3) to match that of the second tensor"
      ]
    },
    {
      "cell_type": "markdown",
      "id": "0c0b68e2",
      "metadata": {
        "id": "0c0b68e2"
      },
      "source": [
        "**Important**, this automatic reshaping can happen unexpectedly. Imagine a function that computes values based on two tensors, say the x-position and momentum of a collection of muons:"
      ]
    },
    {
      "cell_type": "code",
      "execution_count": null,
      "id": "86cb0f4e",
      "metadata": {
        "id": "86cb0f4e",
        "outputId": "1eaf4783-b77d-4d45-b8a8-3cb613c606cf"
      },
      "outputs": [
        {
          "data": {
            "text/plain": [
              "(torch.Size([5, 3]), torch.Size([5]))"
            ]
          },
          "execution_count": 63,
          "metadata": {},
          "output_type": "execute_result"
        }
      ],
      "source": [
        "n_muons = 5\n",
        "xyz = torch.rand(n_muons,3)\n",
        "mom = torch.ones(n_muons)\n",
        "xyz.shape, mom.shape"
      ]
    },
    {
      "cell_type": "code",
      "execution_count": null,
      "id": "fecf11fa",
      "metadata": {
        "id": "fecf11fa"
      },
      "outputs": [],
      "source": [
        "def my_func(x, mom):\n",
        "    return x*mom"
      ]
    },
    {
      "cell_type": "markdown",
      "id": "f6d4db59",
      "metadata": {
        "id": "f6d4db59"
      },
      "source": [
        "We expect to compute one value per muon, but if we accidentally pass tensors of different shapes, the result can be reshaped unexpectedly:"
      ]
    },
    {
      "cell_type": "code",
      "execution_count": null,
      "id": "d03145ce",
      "metadata": {
        "id": "d03145ce",
        "outputId": "3dbdedff-25ab-42bf-cc60-9886b6d2c472"
      },
      "outputs": [
        {
          "data": {
            "text/plain": [
              "torch.Size([5, 1])"
            ]
          },
          "execution_count": 65,
          "metadata": {},
          "output_type": "execute_result"
        }
      ],
      "source": [
        "x = xyz[:,0:1]\n",
        "x.shape"
      ]
    },
    {
      "cell_type": "code",
      "execution_count": null,
      "id": "546839fb",
      "metadata": {
        "id": "546839fb",
        "outputId": "30bbcb29-03fc-40b2-9afb-45722cda4da6"
      },
      "outputs": [
        {
          "data": {
            "text/plain": [
              "(torch.Size([5, 5]),\n",
              " tensor([[0.4786, 0.4786, 0.4786, 0.4786, 0.4786],\n",
              "         [0.6937, 0.6937, 0.6937, 0.6937, 0.6937],\n",
              "         [0.2799, 0.2799, 0.2799, 0.2799, 0.2799],\n",
              "         [0.1249, 0.1249, 0.1249, 0.1249, 0.1249],\n",
              "         [0.0537, 0.0537, 0.0537, 0.0537, 0.0537]]))"
            ]
          },
          "execution_count": 66,
          "metadata": {},
          "output_type": "execute_result"
        }
      ],
      "source": [
        "val = my_func(x, mom)\n",
        "val.shape, val"
      ]
    },
    {
      "cell_type": "code",
      "execution_count": null,
      "id": "2582bb37",
      "metadata": {
        "id": "2582bb37",
        "outputId": "a15ff489-fe87-4f13-fd11-665eb5629585"
      },
      "outputs": [
        {
          "data": {
            "text/plain": [
              "tensor([0.4786, 0.4786, 0.4786, 0.4786, 0.4786])"
            ]
          },
          "execution_count": 67,
          "metadata": {},
          "output_type": "execute_result"
        }
      ],
      "source": [
        "val[0]"
      ]
    },
    {
      "cell_type": "markdown",
      "id": "d4202e67",
      "metadata": {
        "id": "d4202e67"
      },
      "source": [
        "Here both the `x` and `mom` tensors were shape (5,5), since the size of the `x` tensor's second dimension was 1.\n",
        "Instead, if the tensors are of the same rank, then this doesn't happen:"
      ]
    },
    {
      "cell_type": "code",
      "execution_count": null,
      "id": "9d8d6f2b",
      "metadata": {
        "id": "9d8d6f2b",
        "outputId": "b305c20d-c2d5-4a6f-a188-ab048e9a9120"
      },
      "outputs": [
        {
          "data": {
            "text/plain": [
              "(torch.Size([5]), tensor([0.4786, 0.6937, 0.2799, 0.1249, 0.0537]))"
            ]
          },
          "execution_count": 68,
          "metadata": {},
          "output_type": "execute_result"
        }
      ],
      "source": [
        "val = my_func(xyz[:,0], mom)\n",
        "val.shape, val"
      ]
    },
    {
      "cell_type": "code",
      "execution_count": null,
      "id": "f8d805a6",
      "metadata": {
        "id": "f8d805a6",
        "outputId": "4757aaa3-1a5a-469d-bb03-bba9b52a9e27"
      },
      "outputs": [
        {
          "data": {
            "text/plain": [
              "(torch.Size([5, 1]),\n",
              " tensor([[0.4786],\n",
              "         [0.6937],\n",
              "         [0.2799],\n",
              "         [0.1249],\n",
              "         [0.0537]]))"
            ]
          },
          "execution_count": 69,
          "metadata": {},
          "output_type": "execute_result"
        }
      ],
      "source": [
        "val = my_func(xyz[:,0:1], mom[:,None])  # The [:,None] index adds an extra dimension to the indexed tensor\n",
        "val.shape, val"
      ]
    },
    {
      "cell_type": "markdown",
      "id": "feca82ce",
      "metadata": {
        "heading_collapsed": true,
        "id": "feca82ce"
      },
      "source": [
        "## Advanced mathematical operations"
      ]
    },
    {
      "cell_type": "markdown",
      "id": "5870f4c2",
      "metadata": {
        "hidden": true,
        "id": "5870f4c2"
      },
      "source": [
        "### Reduction methods\n",
        "Certain methods can be applied to compute values based on elements of a tensor along specified dimensions, and can reduce the number of dimensions in the tensor. Often these will take a `dim` argument for specifying the (zero-ordered) dimension along which to apply the operation. This can sometimes be a list/tuple of dimensions, to apply the operation to all dimensions listed. By default this is `None`, in which case the operation is applied to all dimensions.\n",
        "Normally, all dimensions listed, will be removed from the resulting tensor. The operations will also have a `keepdim` argument, which can be set to `True`, in order to retain the same rank; the dimension size will be one."
      ]
    },
    {
      "cell_type": "code",
      "execution_count": null,
      "id": "ac67c3a5",
      "metadata": {
        "hidden": true,
        "id": "ac67c3a5"
      },
      "outputs": [],
      "source": [
        "a = torch.rand(3,2,4)\n",
        "a"
      ]
    },
    {
      "cell_type": "code",
      "execution_count": null,
      "id": "58fc0f97",
      "metadata": {
        "hidden": true,
        "id": "58fc0f97"
      },
      "outputs": [],
      "source": [
        "a.sum(), torch.sum(a, dim=0), torch.sum(a, dim=0, keepdim=True), torch.sum(a, dim=1), torch.sum(a, dim=-1), a.sum([0,-1])"
      ]
    },
    {
      "cell_type": "code",
      "execution_count": null,
      "id": "09add151",
      "metadata": {
        "hidden": true,
        "id": "09add151"
      },
      "outputs": [],
      "source": [
        "a.mean(), a.prod(-2), a.norm(dim=0)"
      ]
    },
    {
      "cell_type": "markdown",
      "id": "f43abdf1",
      "metadata": {
        "hidden": true,
        "id": "f43abdf1"
      },
      "source": [
        "Min, max, and median operations are a bit strange in PyTorch. In that their return types can vary, depending on whether a dimension is specified. When a dimension is specified, then the return type has both value and index attributes:"
      ]
    },
    {
      "cell_type": "code",
      "execution_count": null,
      "id": "afeaaa9d",
      "metadata": {
        "hidden": true,
        "id": "afeaaa9d"
      },
      "outputs": [],
      "source": [
        "a.min()"
      ]
    },
    {
      "cell_type": "code",
      "execution_count": null,
      "id": "d6256a08",
      "metadata": {
        "hidden": true,
        "id": "d6256a08"
      },
      "outputs": [],
      "source": [
        "m = a.min(0)\n",
        "m, m.values, m.indices"
      ]
    },
    {
      "cell_type": "code",
      "execution_count": null,
      "id": "3b76efd5",
      "metadata": {
        "hidden": true,
        "id": "3b76efd5"
      },
      "outputs": [],
      "source": [
        "torch.max(a), torch.max(a, 0)"
      ]
    },
    {
      "cell_type": "code",
      "execution_count": null,
      "id": "2cbd01a2",
      "metadata": {
        "hidden": true,
        "id": "2cbd01a2"
      },
      "outputs": [],
      "source": [
        "torch.median(a), torch.median(a, 0)"
      ]
    },
    {
      "cell_type": "markdown",
      "id": "11754579",
      "metadata": {
        "id": "11754579"
      },
      "source": [
        "## Manipulations"
      ]
    },
    {
      "cell_type": "markdown",
      "id": "95049626",
      "metadata": {
        "id": "95049626"
      },
      "source": [
        "### Reshaping tensors\n",
        "Although tensors are created with a specific shape, as we've seen they needn't retain this shape forever. Their shapes can be manipulated by the following methods, provided the number of elements remains the same:"
      ]
    },
    {
      "cell_type": "code",
      "execution_count": null,
      "id": "a6e0e7e6",
      "metadata": {
        "id": "a6e0e7e6"
      },
      "outputs": [],
      "source": [
        "a = torch.arange(9)\n",
        "print(a.shape, a)\n",
        "b = a.reshape(3,3)  # reshape to the specified shape. If possible a new tensor is NOT returned, but sometimes this isn't possible, in which case the tensor is copied\n",
        "print(b.shape)\n",
        "print(b)"
      ]
    },
    {
      "cell_type": "markdown",
      "id": "cd759311",
      "metadata": {
        "id": "cd759311"
      },
      "source": [
        "A similar function is `view`, but sometimes a view isn't possible due to the way that the tensor is stored in memory"
      ]
    },
    {
      "cell_type": "code",
      "execution_count": null,
      "id": "4560e1f3",
      "metadata": {
        "id": "4560e1f3"
      },
      "outputs": [],
      "source": [
        "a = torch.arange(9)\n",
        "print(a.shape, a)\n",
        "b = a.reshape(3,-1)  # The -1 indicates that the size of this dimension should be whatever is required to retain the same number of elements\n",
        "print(b.shape)"
      ]
    },
    {
      "cell_type": "code",
      "execution_count": null,
      "id": "7c9ef9cb",
      "metadata": {
        "id": "7c9ef9cb"
      },
      "outputs": [],
      "source": [
        "a = torch.arange(18).reshape(3,2,3)\n",
        "print(a.shape)\n",
        "print(a)\n",
        "b = a.transpose(0,1)  # swaps the specifed dimensions\n",
        "print(b.shape)\n",
        "print(b)"
      ]
    },
    {
      "cell_type": "code",
      "execution_count": null,
      "id": "fdbebbaf",
      "metadata": {
        "id": "fdbebbaf"
      },
      "outputs": [],
      "source": [
        "a = torch.arange(24).reshape(3,2,4)\n",
        "print(a.shape)\n",
        "print(a)\n",
        "b = a.permute(2,0,1)  # Changes the dimensions by listing the id of the dimension in the position where it should appear in the reshaped tensor\n",
        "print(b.shape)"
      ]
    },
    {
      "cell_type": "code",
      "execution_count": null,
      "id": "89d534a8",
      "metadata": {
        "id": "89d534a8"
      },
      "outputs": [],
      "source": [
        "a = torch.arange(24).reshape(3,2,4)\n",
        "print(a.shape)\n",
        "b = a.unsqueeze(2)  # Adds an extra dimension of size 1 at position 2\n",
        "print(b.shape)"
      ]
    },
    {
      "cell_type": "code",
      "execution_count": null,
      "id": "d7ee5148",
      "metadata": {
        "id": "d7ee5148"
      },
      "outputs": [],
      "source": [
        "a = torch.arange(24).reshape(3,2,4)\n",
        "print(a.shape)\n",
        "b = a[:,:,None]  # A shortcut to .unsqueeze(), place None where new dimensions should be added\n",
        "print(b.shape)"
      ]
    },
    {
      "cell_type": "code",
      "execution_count": null,
      "id": "9da2e026",
      "metadata": {
        "id": "9da2e026"
      },
      "outputs": [],
      "source": [
        "a = torch.arange(24).reshape(3,2,1,4,1)\n",
        "print(a.shape)\n",
        "b = a.squeeze()  # Removes all size=1 dimensions\n",
        "print(b.shape)"
      ]
    },
    {
      "cell_type": "code",
      "execution_count": null,
      "id": "55d2ef40",
      "metadata": {
        "id": "55d2ef40"
      },
      "outputs": [],
      "source": [
        "a = torch.arange(24).reshape(3,2,1,4,1)\n",
        "print(a.shape)\n",
        "b = a.squeeze(-1)  # Removes the size=1 dimension at the specified position\n",
        "print(b.shape)"
      ]
    },
    {
      "cell_type": "code",
      "execution_count": null,
      "id": "762ebec3",
      "metadata": {
        "id": "762ebec3",
        "outputId": "89d2cefd-656c-4e5c-f336-ca55eb7ce3f0"
      },
      "outputs": [
        {
          "name": "stdout",
          "output_type": "stream",
          "text": [
            "torch.Size([3, 2, 4])\n",
            "torch.Size([3, 8])\n",
            "torch.Size([24])\n"
          ]
        }
      ],
      "source": [
        "a = torch.arange(24).reshape(3,2,-1)\n",
        "print(a.shape)\n",
        "b = a.flatten(1)  # Removes all dimensions starting from the specified one\n",
        "print(b.shape)\n",
        "b = a.flatten()\n",
        "print(b.shape)  # Removes all dimensions"
      ]
    },
    {
      "cell_type": "markdown",
      "id": "f4754f60",
      "metadata": {
        "id": "f4754f60"
      },
      "source": [
        "#### Expanding/repeating tensors"
      ]
    },
    {
      "cell_type": "code",
      "execution_count": null,
      "id": "3299fbc6",
      "metadata": {
        "id": "3299fbc6"
      },
      "outputs": [],
      "source": [
        "a = torch.arange(6).reshape(3,2,1)\n",
        "print(a.shape)\n",
        "b = a.expand(-1,-1,3)  # \"Copies\" the tensor along singleton (size=1) dimensions the specified number of times per dimension. -1 indicates \"leave this dimension as is\"\n",
        "print(b.shape)         # This doesn't actually copy the values, instead it returns a view of the specified shape. An in place modification of one of the \"copied\"\n",
        "b                      # elements will update all elements that were \"copied\", since they share the same memory address"
      ]
    },
    {
      "cell_type": "code",
      "execution_count": null,
      "id": "646a9f5d",
      "metadata": {
        "id": "646a9f5d"
      },
      "outputs": [],
      "source": [
        "b[0,0,0] += 1  # All elements in [0,0,:] are updated\n",
        "b"
      ]
    },
    {
      "cell_type": "markdown",
      "id": "fd0ac3ce",
      "metadata": {
        "id": "fd0ac3ce"
      },
      "source": [
        "Instead, to really copy elements, use the `repeat` and `repeat_interleave` functions."
      ]
    },
    {
      "cell_type": "code",
      "execution_count": null,
      "id": "46167875",
      "metadata": {
        "id": "46167875"
      },
      "outputs": [],
      "source": [
        "b = a.repeat(1,1,3)  # Specify per dimension the number of times to copy data\n",
        "print(b.shape)\n",
        "print(b)\n",
        "b[0,0,0] += 1\n",
        "print(b)  # Inplace addition only affects one element; datat really was copied"
      ]
    },
    {
      "cell_type": "code",
      "execution_count": null,
      "id": "5b04706b",
      "metadata": {
        "id": "5b04706b"
      },
      "outputs": [],
      "source": [
        "b = a.repeat_interleave(3, dim=2)  # Specify the number of times to repeat along a specific dimension\n",
        "print(b.shape)\n",
        "print(b)\n",
        "b[0,0,0] += 1\n",
        "print(b)  # Inplace addition only affects one element; datat really was copied"
      ]
    },
    {
      "cell_type": "markdown",
      "id": "6e23c8b7",
      "metadata": {
        "id": "6e23c8b7"
      },
      "source": [
        "### Combining tensors\n",
        "There are two methods for combining multiple tensors into one:\n",
        "- cat (concatenate) combines tensors of the same along an existing dimension, in which they can potentially have different sizes\n",
        "- stack combines tensors of the same shape along a new dimension"
      ]
    },
    {
      "cell_type": "code",
      "execution_count": null,
      "id": "926ddb04",
      "metadata": {
        "id": "926ddb04"
      },
      "outputs": [],
      "source": [
        "a = torch.arange(9).reshape(3,3)\n",
        "b = torch.arange(9,18).reshape(3,3)\n",
        "c = torch.arange(18,24).reshape(3,2)"
      ]
    },
    {
      "cell_type": "code",
      "execution_count": null,
      "id": "684d43c3",
      "metadata": {
        "id": "684d43c3"
      },
      "outputs": [],
      "source": [
        "torch.cat([a,b,c], dim=1).shape  # combine a,b,c along the last dimension (possible even though c only has 2 elements)"
      ]
    },
    {
      "cell_type": "code",
      "execution_count": null,
      "id": "17b3d5c6",
      "metadata": {
        "id": "17b3d5c6"
      },
      "outputs": [],
      "source": [
        "torch.cat([a,b], dim=0).shape  # combine a,b along the first dimension (cannot combine c since it has a different size for the remaining dimensions)"
      ]
    },
    {
      "cell_type": "code",
      "execution_count": null,
      "id": "3ca5f67f",
      "metadata": {
        "id": "3ca5f67f"
      },
      "outputs": [],
      "source": [
        "torch.stack([a,b],dim=0).shape, torch.stack([a,b],dim=1).shape  # combine a,b along the new dimensions (cannot combine c since it has a different shape)"
      ]
    },
    {
      "cell_type": "markdown",
      "id": "adcaf50d",
      "metadata": {
        "heading_collapsed": true,
        "id": "adcaf50d"
      },
      "source": [
        "## Devices\n",
        "By default, tensors are created on the cpu, however it is often beneficial to perform operations on gpus. Tensors must either manually transfered to the gpu, or explicitly created on it.\n",
        "- Calling `.cpu()` or `.cuda()` on a `Tensor` will move it to the specified device. The `to(device)` method will place Tensors on the device.\n",
        "- Devices can be created by e.g. `torch.device('cpu')`, `torch.device('cuda')`, `torch.device('cuda:0')`.\n",
        "- Most torch function that create tensors have a `device` argument in which the user can specify that the tensor be created directly on a device, rather than shift it there from cpu"
      ]
    },
    {
      "cell_type": "markdown",
      "id": "a1c13db5",
      "metadata": {
        "id": "a1c13db5"
      },
      "source": [
        "## Retrieving data from tensors\n",
        "Whilst a lot of other Python packages can extract data from tensors, this isn't always possible. The `item()`, and `numpy()` methods can be used to export data into more portable formats:"
      ]
    },
    {
      "cell_type": "code",
      "execution_count": null,
      "id": "d9c7564b",
      "metadata": {
        "id": "d9c7564b"
      },
      "outputs": [],
      "source": [
        "a = torch.rand(10)"
      ]
    },
    {
      "cell_type": "code",
      "execution_count": null,
      "id": "66a7df46",
      "metadata": {
        "id": "66a7df46"
      },
      "outputs": [],
      "source": [
        "a.numpy()"
      ]
    },
    {
      "cell_type": "code",
      "execution_count": null,
      "id": "11db1baf",
      "metadata": {
        "id": "11db1baf"
      },
      "outputs": [],
      "source": [
        "a[0].item()  # item only exports single elements"
      ]
    },
    {
      "cell_type": "markdown",
      "id": "7ee3f54d",
      "metadata": {
        "id": "7ee3f54d"
      },
      "source": [
        "However, sometimes this isn't possible: the tensor must be on the cpu, and cannot have a gradient (more on gradient in later notebooks).\n",
        "- `.detach()` creates a view of the tensor with no gradient\n",
        "- the `.data` attribute is the values of the tensor, with no gradient\n",
        "\n",
        "The most robust way to extract data is to is to call `.detach().cpu()`  or `.data().cpu()` on the tensor"
      ]
    },
    {
      "cell_type": "code",
      "execution_count": null,
      "id": "f1f0fd0d",
      "metadata": {
        "id": "f1f0fd0d"
      },
      "outputs": [],
      "source": [
        "b = torch.ones(1, requires_grad=True)\n",
        "c = a*b"
      ]
    },
    {
      "cell_type": "code",
      "execution_count": null,
      "id": "fa29b7c8",
      "metadata": {
        "id": "fa29b7c8"
      },
      "outputs": [],
      "source": [
        "c.numpy()"
      ]
    },
    {
      "cell_type": "code",
      "execution_count": null,
      "id": "36d3c066",
      "metadata": {
        "id": "36d3c066"
      },
      "outputs": [],
      "source": [
        "%%timeit\n",
        "a.data.cpu().numpy()"
      ]
    },
    {
      "cell_type": "code",
      "execution_count": null,
      "id": "417d1cf6",
      "metadata": {
        "id": "417d1cf6"
      },
      "outputs": [],
      "source": [
        "%%timeit\n",
        "a.detach().cpu().numpy()"
      ]
    },
    {
      "cell_type": "markdown",
      "id": "e4682b3a",
      "metadata": {
        "id": "e4682b3a"
      },
      "source": [
        "### clone\n",
        "Sometimes it is necessary to copy a tensor. E.g. modifying the return of `a.detach()` would still affect the values of `a` and cause problems.\n",
        "Instead `a.detach().clone()` will create a new tensor with it's own memory address.\n",
        "Cloning a non-detached tensor will is differentiable. "
      ]
    },
    {
      "cell_type": "code",
      "execution_count": null,
      "id": "82be9b8a",
      "metadata": {
        "id": "82be9b8a"
      },
      "outputs": [],
      "source": [
        "a = torch.rand(10)\n",
        "print(a)\n",
        "b = torch.log_(a.detach())\n",
        "a  # a is updated by the inplace operation"
      ]
    },
    {
      "cell_type": "code",
      "execution_count": null,
      "id": "40f0d061",
      "metadata": {
        "id": "40f0d061"
      },
      "outputs": [],
      "source": [
        "a = torch.rand(10)\n",
        "print(a)\n",
        "b = torch.log_(a.detach().clone())\n",
        "a  # a is not updated by the inplace operation on the clone"
      ]
    }
  ],
  "metadata": {
    "kernelspec": {
      "display_name": "Python [conda env:pytorch_tutorial_2022]",
      "language": "python",
      "name": "conda-env-pytorch_tutorial_2022-py"
    },
    "language_info": {
      "codemirror_mode": {
        "name": "ipython",
        "version": 3
      },
      "file_extension": ".py",
      "mimetype": "text/x-python",
      "name": "python",
      "nbconvert_exporter": "python",
      "pygments_lexer": "ipython3",
      "version": "3.8.0"
    },
    "toc": {
      "base_numbering": 1,
      "nav_menu": {},
      "number_sections": true,
      "sideBar": true,
      "skip_h1_title": false,
      "title_cell": "Table of Contents",
      "title_sidebar": "Contents",
      "toc_cell": false,
      "toc_position": {},
      "toc_section_display": true,
      "toc_window_display": false
    },
    "colab": {
      "provenance": [],
      "include_colab_link": true
    }
  },
  "nbformat": 4,
  "nbformat_minor": 5
}